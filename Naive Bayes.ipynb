{
 "cells": [
  {
   "cell_type": "markdown",
   "id": "f05ab44c",
   "metadata": {},
   "source": [
    "# Q3.1"
   ]
  },
  {
   "cell_type": "code",
   "execution_count": 1,
   "id": "21bc8f19",
   "metadata": {},
   "outputs": [
    {
     "name": "stdout",
     "output_type": "stream",
     "text": [
      "Prior probabilities are:\n",
      "\n",
      "English : 0.3333333333333333\n",
      "Japanese : 0.3333333333333333\n",
      "Spanish : 0.3333333333333333\n",
      "\n",
      "Log values stored as : [2.302585092994046, 2.302585092994046, 2.302585092994046]\n"
     ]
    }
   ],
   "source": [
    "import os\n",
    "import numpy as np\n",
    "import matplotlib.pyplot as plt\n",
    "\n",
    "languages = {'English':[f\"languageID/e{i}.txt\" for i in range(10)]\n",
    "             , 'Japanese': [f\"languageID/j{i}.txt\" for i in range(10)]\n",
    "             , 'Spanish': [f\"languageID/s{i}.txt\" for i in range(10)]}\n",
    "print(\"Prior probabilities are:\\n\")\n",
    "param = 0.5\n",
    "files_log_count=[]\n",
    "for i in languages:\n",
    "    prob=(len(languages[i]) + param) / (sum(len(i) for i in languages.values()) + param * len(languages))\n",
    "    print(i,':',prob)\n",
    "    files_log_count.append(np.log(len(languages[i])))\n",
    "\n",
    "print(\"\\nLog values stored as :\",files_log_count)"
   ]
  },
  {
   "cell_type": "markdown",
   "id": "aa38d7ed",
   "metadata": {},
   "source": [
    "# Q3.2"
   ]
  },
  {
   "cell_type": "code",
   "execution_count": 2,
   "id": "99c54827",
   "metadata": {},
   "outputs": [
    {
     "name": "stdout",
     "output_type": "stream",
     "text": [
      "Theta for English:\n",
      "\n",
      " ['0.06017', '0.01113', '0.02151', '0.02197', '0.10537', '0.01893', '0.01748', '0.04722', '0.05541', '0.00142', '0.00373', '0.02898', '0.02052', '0.05792', '0.06446', '0.01675', '0.00056', '0.05382', '0.06618', '0.08013', '0.02666', '0.00928', '0.01550', '0.00116', '0.01384', '0.00063', '0.17925']\n"
     ]
    }
   ],
   "source": [
    "def character_index(ch):\n",
    "    if ch == ' ':\n",
    "        return 26\n",
    "    return ord(ch) - ord('a')\n",
    "\n",
    "def conditional_prob(x, prob=True ):\n",
    "    char_count = np.zeros(27,dtype='int')\n",
    "    for i in range(len(x)):\n",
    "        file=x[i]\n",
    "        with open(file, 'r', encoding='utf-8') as f:\n",
    "            for line in f:\n",
    "                for char in line:\n",
    "                    if char in 'abcdefghijklmnopqrstuvwxyz ':\n",
    "                        char_count[character_index(char)] += 1\n",
    "    param=0.5\n",
    "    if prob:\n",
    "        total_english_chars = np.sum(char_count)\n",
    "        theta_e = (char_count + param) / (total_english_chars + param * 27)\n",
    "        return theta_e\n",
    "    else:\n",
    "        return char_count\n",
    "\n",
    "train_e = [f\"languageID/e{i}.txt\" for i in range(10)]\n",
    "theta_e = conditional_prob(train_e)\n",
    "theta_e_log = np.log(theta_e)\n",
    "print(\"Theta for English:\\n\\n\", ['{:.5f}'.format(p) for p in theta_e])"
   ]
  },
  {
   "cell_type": "markdown",
   "id": "db5e5e78",
   "metadata": {},
   "source": [
    "# Q3.3"
   ]
  },
  {
   "cell_type": "code",
   "execution_count": 3,
   "id": "20345be7",
   "metadata": {},
   "outputs": [
    {
     "name": "stdout",
     "output_type": "stream",
     "text": [
      "Theta for Japanese:\n",
      "\n",
      " ['0.13177', '0.01087', '0.00549', '0.01723', '0.06020', '0.00388', '0.01401', '0.03176', '0.09703', '0.00234', '0.05741', '0.00143', '0.03980', '0.05671', '0.09116', '0.00087', '0.00010', '0.04280', '0.04217', '0.05699', '0.07062', '0.00024', '0.01974', '0.00003', '0.01415', '0.00772', '0.12345']\n",
      "\n",
      "Theta for Spanish:\n",
      "\n",
      " ['0.10456', '0.00823', '0.03753', '0.03975', '0.11381', '0.00860', '0.00718', '0.00453', '0.04986', '0.00663', '0.00028', '0.05294', '0.02581', '0.05418', '0.07249', '0.02427', '0.00768', '0.05930', '0.06577', '0.03561', '0.03370', '0.00589', '0.00009', '0.00250', '0.00786', '0.00268', '0.16826']\n"
     ]
    }
   ],
   "source": [
    "train_j = [f\"languageID/j{i}.txt\" for i in range(10)]\n",
    "theta_j = conditional_prob(train_j)\n",
    "theta_j_log = np.log(theta_j)\n",
    "\n",
    "print(\"Theta for Japanese:\\n\\n\", ['{:.5f}'.format(p) for p in theta_j])\n",
    "\n",
    "train_s = [f\"languageID/s{i}.txt\" for i in range(10)]\n",
    "theta_s = conditional_prob(train_s)\n",
    "theta_s_log = np.log(theta_s)\n",
    "\n",
    "print(\"\\nTheta for Spanish:\\n\\n\", ['{:.5f}'.format(p) for p in theta_s])"
   ]
  },
  {
   "cell_type": "markdown",
   "id": "f3932695",
   "metadata": {},
   "source": [
    "# Q3.4"
   ]
  },
  {
   "cell_type": "code",
   "execution_count": 4,
   "id": "a61a6022",
   "metadata": {},
   "outputs": [
    {
     "name": "stdout",
     "output_type": "stream",
     "text": [
      "Bag-of-words vector for e10.txt is:\n",
      "\n",
      "a: 164, b: 32, c: 53, d: 57, e: 311, f: 55, g: 51, h: 140, i: 140, j: 3, k: 6, l: 85, m: 64, n: 139, o: 182, p: 53, q: 3, r: 141, s: 186, t: 225, u: 65, v: 31, w: 47, x: 4, y: 38, z: 2,  : 498, "
     ]
    }
   ],
   "source": [
    "test_x = [\"languageID/e10.txt\"]\n",
    "bag_of_words_x = conditional_prob(test_x, prob=False )\n",
    "\n",
    "print(\"Bag-of-words vector for e10.txt is:\\n\")\n",
    "for i,char in enumerate('abcdefghijklmnopqrstuvwxyz '):\n",
    "    print(f\"{char}: {bag_of_words_x[i]}\",end=\", \")"
   ]
  },
  {
   "cell_type": "markdown",
   "id": "afb90b46",
   "metadata": {},
   "source": [
    "# Q3.5"
   ]
  },
  {
   "cell_type": "code",
   "execution_count": 76,
   "id": "9f4d19ee",
   "metadata": {},
   "outputs": [
    {
     "name": "stdout",
     "output_type": "stream",
     "text": [
      "Likelihood values (log base e) of English, Japanase and Spanish respectively are: [-7841.865447060635, -8771.433079075032, -8467.282044010557]\n",
      "\n",
      "Corresponding log probabilities are:\n",
      "\n",
      "English: p(y=e|x) = exp(-7841.865447)\n",
      "Japanese: p(y=j|x) = exp(-8771.433079)\n",
      "Spanish: p(y=s|x) = exp(-8467.282044)\n",
      "Due to underflow, these values are approximated to 0 by np.exp function.\n"
     ]
    }
   ],
   "source": [
    "# USING LOG VALUES:\n",
    "theta=np.array([theta_e_log,theta_j_log,theta_s_log])\n",
    "likelihood_with_logs=[]\n",
    "for i in range(len(languages)):\n",
    "    likelihood_with_logs.append(sum(bag_of_words_x*theta[i]))\n",
    "print('Likelihood values (log base e) of English, Japanase and Spanish respectively are:',likelihood_with_logs)\n",
    "print(\"\\nCorresponding log probabilities are:\")\n",
    "print('\\nEnglish: p(y=e|x) = exp(-7841.865447)')\n",
    "print('Japanese: p(y=j|x) = exp(-8771.433079)')\n",
    "print('Spanish: p(y=s|x) = exp(-8467.282044)')\n",
    "print('Due to underflow, these values are approximated to 0 by np.exp function.')"
   ]
  },
  {
   "cell_type": "markdown",
   "id": "4c115c83",
   "metadata": {},
   "source": [
    "# Q3.6"
   ]
  },
  {
   "cell_type": "code",
   "execution_count": 77,
   "id": "8240887f",
   "metadata": {},
   "outputs": [
    {
     "name": "stdout",
     "output_type": "stream",
     "text": [
      "Predicted class label: English\n",
      "Log posterio values for y = e,j,s respectively are\n",
      "[-7842.964059349303, -8772.5316913637, -8468.380656299225]\n"
     ]
    }
   ],
   "source": [
    "# Ignoreing the denominator \n",
    "posteriors = []\n",
    "for i in likelihood_with_logs:\n",
    "    posteriors.append(np.log(1/3)+i)\n",
    "print(\"Predicted class label: English\")\n",
    "print(\"Log posterio values for y = e,j,s respectively are\")\n",
    "print(posteriors)"
   ]
  },
  {
   "cell_type": "markdown",
   "id": "875dfcd5",
   "metadata": {},
   "source": [
    "# Q3.7"
   ]
  },
  {
   "cell_type": "code",
   "execution_count": 42,
   "id": "7e5ff7f9",
   "metadata": {},
   "outputs": [],
   "source": [
    "def predict(file):\n",
    "    bag_of_words_vec = conditional_prob(file, prob=False)\n",
    "    likelihood_with_logs=[]\n",
    "    for i in range(len(languages)):\n",
    "        likelihood_with_logs.append(sum(bag_of_words_vec*theta[i]))\n",
    "    posteriors = []\n",
    "    for i in likelihood_with_logs:\n",
    "        posteriors.append(np.log(1/3)+i)\n",
    "    p=np.argmax(posteriors)\n",
    "    if(p==0):\n",
    "        return \"English\"\n",
    "    elif(p==1):\n",
    "        return \"Japanese\"\n",
    "    else:\n",
    "        return \"Spanish\""
   ]
  },
  {
   "cell_type": "code",
   "execution_count": 43,
   "id": "7ed2d9d2",
   "metadata": {},
   "outputs": [
    {
     "data": {
      "text/plain": [
       "Text(0, 0.5, 'Predicted Label')"
      ]
     },
     "execution_count": 43,
     "metadata": {},
     "output_type": "execute_result"
    },
    {
     "data": {
      "image/png": "[encoded data removed]",
      "text/plain": [
       "<Figure size 640x480 with 2 Axes>"
      ]
     },
     "metadata": {},
     "output_type": "display_data"
    }
   ],
   "source": [
    "from sklearn.metrics import confusion_matrix, ConfusionMatrixDisplay\n",
    "test_files = np.array([\n",
    "    [f\"languageID/e{i}.txt\" for i in range(10, 20)],\n",
    "    [f\"languageID/j{i}.txt\" for i in range(10, 20)],\n",
    "    [f\"languageID/s{i}.txt\" for i in range(10, 20)]]).flatten()\n",
    "\n",
    "predicted=[]\n",
    "actual= np.array([\n",
    "    [f\"English\" for i in range(10, 20)],\n",
    "    [f\"Japanese\" for i in range(10, 20)],\n",
    "    [f\"Spanish\" for i in range(10, 20)]]).flatten()\n",
    "\n",
    "for i in range(len(test_files)):\n",
    "    predicted.append(predict([test_files[i]]))\n",
    "\n",
    "cm = confusion_matrix(actual, predicted, labels=[\"English\", \"Japanese\", \"Spanish\"]).T\n",
    "disp = ConfusionMatrixDisplay(confusion_matrix=cm, display_labels=[\"English\", \"Japanese\", \"Spanish\"])\n",
    "plot = disp.plot(cmap=plt.cm.Blues)\n",
    "plot.ax_.set_xlabel('True/Actual Label')\n",
    "plot.ax_.set_ylabel('Predicted Label')"
   ]
  },
  {
   "cell_type": "markdown",
   "id": "b23616e1",
   "metadata": {},
   "source": [
    "# Q3.8"
   ]
  },
  {
   "cell_type": "markdown",
   "id": "084ab742",
   "metadata": {},
   "source": [
    "No.\n",
    "If we take a test document and arbitrarily shuffle the order of its characters so that the words (and spaces)\n",
    "are scrambled beyond human recognition, it will not affect the Naive Bayes classifier's result in any way. This is because the\n",
    "classifier works based on the principle of bag of words. In other terms, it uses a count vector which maintains the count of \n",
    "the occurance of all the characters in the file. Even after shuffling the characters such that it makes no sense, we get the same\n",
    "count vectors for each file. Thus, the classifier's prediction does not change either. \n",
    "To calculate the likelihood for a document, we raise the conditional probabilities of the characters to the power of the number of\n",
    "times it appears in the document, thus unaffected by the order of the characters. This revolves around Naive Bayes' key property:\n",
    "independence of the features involved."
   ]
  },
  {
   "cell_type": "code",
   "execution_count": 69,
   "id": "0d604162",
   "metadata": {},
   "outputs": [],
   "source": [
    "file_path = f'languageID/s12.txt'\n",
    "import pandas as pd\n",
    "import random\n",
    "from collections import Counter\n",
    "\n",
    "with open(file_path) as f:\n",
    "    doc = f.read()\n",
    "\n",
    "replace_chars = ['\\n', '\\t']\n",
    "for r_char in replace_chars:\n",
    "    doc = doc.replace(r_char, '')\n",
    "\n",
    "random = list(doc)\n",
    "np.random.shuffle(random)\n",
    "random = ''.join(random)\n",
    "\n",
    "with open('new_test_random.txt', 'w') as f:\n",
    "    f.write(random)"
   ]
  },
  {
   "cell_type": "code",
   "execution_count": 66,
   "id": "6bfcf1c5",
   "metadata": {},
   "outputs": [
    {
     "name": "stdout",
     "output_type": "stream",
     "text": [
      "Spanish\n"
     ]
    }
   ],
   "source": [
    "print(predict([file_path]))"
   ]
  },
  {
   "cell_type": "code",
   "execution_count": 72,
   "id": "18a25c8b",
   "metadata": {},
   "outputs": [
    {
     "name": "stdout",
     "output_type": "stream",
     "text": [
      "Spanish\n"
     ]
    }
   ],
   "source": [
    "print(predict(['new_test_random.txt']))"
   ]
  }
 ],
 "metadata": {
  "kernelspec": {
   "display_name": "Python 3 (ipykernel)",
   "language": "python",
   "name": "python3"
  },
  "language_info": {
   "codemirror_mode": {
    "name": "ipython",
    "version": 3
   },
   "file_extension": ".py",
   "mimetype": "text/x-python",
   "name": "python",
   "nbconvert_exporter": "python",
   "pygments_lexer": "ipython3",
   "version": "3.11.4"
  }
 },
 "nbformat": 4,
 "nbformat_minor": 5
}
